{
 "cells": [
  {
   "cell_type": "markdown",
   "id": "b5e9dab2",
   "metadata": {},
   "source": [
    "# **Project Overview: Acme Sales & Margin Optimization**\n",
    "## **Objective**\n",
    "The project aims to generate a synthetic dataset representing Acme Company's sales, margin, and business constraints across multiple portfolios, geographies, and product segments. The goal is to optimize and analyze sales and margin trends under various constraints to support strategic decision-making.\n",
    "\n",
    "## **Key Components**\n",
    "### **1. Synthetic Data Generation**\n",
    "- Created a structured dataset with portfolios, geographies, categories, brands, and segments.\n",
    "- Assigned random values for sales, margin, trends, and contribution factors.\n",
    "- Ensured variability while maintaining realistic business constraints.\n",
    "\n",
    "### **2. Optimization Goals**\n",
    "#### **a. Maximize Sales**\n",
    "- Determines the absolute maximum sales achievable given Acme's constraints.\n",
    "- Helps leadership assess the feasibility of growth targets.\n",
    "\n",
    "#### **b. Maximize Margin**\n",
    "- Similar to sales maximization but focused on profit margins.\n",
    "- Identifies optimal product and market combinations for highest profitability.\n",
    "\n",
    "#### **c. Sales Target Optimization**\n",
    "- Determines the best path to reach a given sales target while maximizing margins.\n",
    "- Ensures profitability while meeting revenue goals.\n",
    "\n",
    "#### **d. Margin Target Optimization**\n",
    "- Identifies strategies to meet a margin target while maximizing sales.\n",
    "- Balances growth and profitability for sustainable expansion.\n",
    "\n",
    "### **3. 5-Year Projections**\n",
    "- Calculates projected sales and margins annually over a 5-year period.\n",
    "- Allows constraints to be adjusted per year for flexibility.\n",
    "- Provides insights into long-term business trends.\n",
    "\n",
    "### **4. Visualization & Reporting**\n",
    "- Graphical representation of 5-year projections for sales and margin trends.\n",
    "- Tabular breakdown of projected financial outcomes.\n",
    "- Supports data-driven decision-making for executives.\n",
    "\n",
    "## **Impact**\n",
    "This project provides Acme Company with a robust analytical framework to evaluate growth potential, set realistic financial goals, and optimize revenue and margin strategies under defined business constraints."
   ]
  },
  {
   "cell_type": "code",
   "execution_count": 3,
   "id": "6f1a4bd7-0b5b-4861-bd6a-7b837457c227",
   "metadata": {},
   "outputs": [],
   "source": [
    "import numpy as np \n",
    "import pandas as pd"
   ]
  },
  {
   "cell_type": "markdown",
   "id": "5dcf2367",
   "metadata": {},
   "source": [
    "1. Synthetic Data Set <br>\n",
    "a. Create a synthetic data set that demonstrates you understand the \n",
    "structure of Acme and the idea of the constraints they wish to set up. \n",
    "<br> b. Your synthetic data set will produce an initial sales number and margin \n",
    "(that are realistic) for each of the segments along with a scenario of \n",
    "different constraints to run the algorithm on."
   ]
  },
  {
   "cell_type": "markdown",
   "id": "d3b1628b",
   "metadata": {},
   "source": [
    "#  Generating the Synthetic Data "
   ]
  },
  {
   "cell_type": "code",
   "execution_count": 4,
   "id": "fb553c1d",
   "metadata": {},
   "outputs": [],
   "source": [
    "np.random.seed(42)"
   ]
  },
  {
   "cell_type": "markdown",
   "id": "fdf3ff2e",
   "metadata": {},
   "source": [
    "**Structuring the data**"
   ]
  },
  {
   "cell_type": "code",
   "execution_count": 5,
   "id": "2430c169",
   "metadata": {},
   "outputs": [],
   "source": [
    "portfolios = [\"Skin/Body\", \"Fragrance + Color Cosmetics\", \"Hair/APDO\"]\n",
    "geographies = [\"North America\", \"Europe\", \"South America\", \"Asia\"]\n",
    "categories = [\"Hair Dye\", \"Face Make-Up\", \"Make Up Brushes\", \"Tools\", \"Fragrance\"]\n",
    "brands = [\"Bobbi Brown\", \"Elizabeth Arden\", \"Frederic Malle\", \"Balmain\", \"Kilian\", ]\n",
    "segments = [\"Lipstick\", \"Mascara\", \"Toner\", \"Bronzer\"]"
   ]
  },
  {
   "cell_type": "markdown",
   "id": "cd8a423f",
   "metadata": {},
   "source": [
    "<B> Generating the data according to Constraints "
   ]
  },
  {
   "cell_type": "code",
   "execution_count": 6,
   "id": "cdc6bded",
   "metadata": {},
   "outputs": [],
   "source": [
    "data = []\n",
    "for portfolio in portfolios:\n",
    "    for geography in geographies:\n",
    "        for category in categories:\n",
    "            for brand in brands:\n",
    "                for segment in segments:\n",
    "                    sales = np.random.randint(500000, 10000000)  \n",
    "                    margin = round(np.random.uniform(5, 20), 2)  \n",
    "                    min_trend = round(np.random.uniform(-5, 0), 2)  \n",
    "                    max_trend = round(np.random.uniform(0, 10), 2)  \n",
    "                    min_contribution = round(np.random.uniform(1, 5), 2) \n",
    "                    max_contribution = round(np.random.uniform(5, 30), 2) \n",
    "                    if min_trend > max_trend:\n",
    "                        min_trend, max_trend = max_trend, min_trend\n",
    "                                 \n",
    "                    data.append([portfolio, geography, category, brand, segment, sales, margin,min_trend, max_trend, min_contribution, max_contribution])\n",
    "\n",
    "                    \n",
    "\n"
   ]
  },
  {
   "cell_type": "markdown",
   "id": "3c93bdc5",
   "metadata": {},
   "source": [
    "<B> Assigning the columns "
   ]
  },
  {
   "cell_type": "code",
   "execution_count": 7,
   "id": "6cc6edba",
   "metadata": {},
   "outputs": [],
   "source": [
    "columns = [\"Portfolio\", \"Geography\", \"Category\", \"Brand\", \"Segment\",\"Initial Sales\", \"Margin\", \"Min Trend\", \"Max Trend\",\"Min Contribution\", \"Max Contribution\"]"
   ]
  },
  {
   "cell_type": "markdown",
   "id": "d747cfe6",
   "metadata": {},
   "source": [
    "<B> Creating the Data Frame"
   ]
  },
  {
   "cell_type": "code",
   "execution_count": 8,
   "id": "66b7b0ca",
   "metadata": {},
   "outputs": [],
   "source": [
    "df = pd.DataFrame(data, columns=columns)"
   ]
  },
  {
   "cell_type": "markdown",
   "id": "7930d579",
   "metadata": {},
   "source": [
    "<b> EDA"
   ]
  },
  {
   "cell_type": "code",
   "execution_count": 9,
   "id": "b2e79902",
   "metadata": {},
   "outputs": [
    {
     "data": {
      "text/html": [
       "<div>\n",
       "<style scoped>\n",
       "    .dataframe tbody tr th:only-of-type {\n",
       "        vertical-align: middle;\n",
       "    }\n",
       "\n",
       "    .dataframe tbody tr th {\n",
       "        vertical-align: top;\n",
       "    }\n",
       "\n",
       "    .dataframe thead th {\n",
       "        text-align: right;\n",
       "    }\n",
       "</style>\n",
       "<table border=\"1\" class=\"dataframe\">\n",
       "  <thead>\n",
       "    <tr style=\"text-align: right;\">\n",
       "      <th></th>\n",
       "      <th>Portfolio</th>\n",
       "      <th>Geography</th>\n",
       "      <th>Category</th>\n",
       "      <th>Brand</th>\n",
       "      <th>Segment</th>\n",
       "      <th>Initial Sales</th>\n",
       "      <th>Margin</th>\n",
       "      <th>Min Trend</th>\n",
       "      <th>Max Trend</th>\n",
       "      <th>Min Contribution</th>\n",
       "      <th>Max Contribution</th>\n",
       "    </tr>\n",
       "  </thead>\n",
       "  <tbody>\n",
       "    <tr>\n",
       "      <th>0</th>\n",
       "      <td>Skin/Body</td>\n",
       "      <td>North America</td>\n",
       "      <td>Hair Dye</td>\n",
       "      <td>Bobbi Brown</td>\n",
       "      <td>Lipstick</td>\n",
       "      <td>6923388</td>\n",
       "      <td>7.75</td>\n",
       "      <td>-1.10</td>\n",
       "      <td>5.97</td>\n",
       "      <td>2.78</td>\n",
       "      <td>7.50</td>\n",
       "    </tr>\n",
       "    <tr>\n",
       "      <th>1</th>\n",
       "      <td>Skin/Body</td>\n",
       "      <td>North America</td>\n",
       "      <td>Hair Dye</td>\n",
       "      <td>Bobbi Brown</td>\n",
       "      <td>Mascara</td>\n",
       "      <td>7704212</td>\n",
       "      <td>14.02</td>\n",
       "      <td>-1.46</td>\n",
       "      <td>0.21</td>\n",
       "      <td>4.88</td>\n",
       "      <td>25.81</td>\n",
       "    </tr>\n",
       "    <tr>\n",
       "      <th>2</th>\n",
       "      <td>Skin/Body</td>\n",
       "      <td>North America</td>\n",
       "      <td>Hair Dye</td>\n",
       "      <td>Bobbi Brown</td>\n",
       "      <td>Toner</td>\n",
       "      <td>6519877</td>\n",
       "      <td>5.01</td>\n",
       "      <td>-0.04</td>\n",
       "      <td>6.17</td>\n",
       "      <td>3.45</td>\n",
       "      <td>5.18</td>\n",
       "    </tr>\n",
       "    <tr>\n",
       "      <th>3</th>\n",
       "      <td>Skin/Body</td>\n",
       "      <td>North America</td>\n",
       "      <td>Hair Dye</td>\n",
       "      <td>Bobbi Brown</td>\n",
       "      <td>Bronzer</td>\n",
       "      <td>9805648</td>\n",
       "      <td>12.87</td>\n",
       "      <td>-3.00</td>\n",
       "      <td>0.47</td>\n",
       "      <td>4.90</td>\n",
       "      <td>10.82</td>\n",
       "    </tr>\n",
       "    <tr>\n",
       "      <th>4</th>\n",
       "      <td>Skin/Body</td>\n",
       "      <td>North America</td>\n",
       "      <td>Hair Dye</td>\n",
       "      <td>Elizabeth Arden</td>\n",
       "      <td>Lipstick</td>\n",
       "      <td>3775709</td>\n",
       "      <td>16.78</td>\n",
       "      <td>-4.00</td>\n",
       "      <td>5.14</td>\n",
       "      <td>3.37</td>\n",
       "      <td>6.16</td>\n",
       "    </tr>\n",
       "  </tbody>\n",
       "</table>\n",
       "</div>"
      ],
      "text/plain": [
       "   Portfolio      Geography  Category            Brand   Segment  \\\n",
       "0  Skin/Body  North America  Hair Dye      Bobbi Brown  Lipstick   \n",
       "1  Skin/Body  North America  Hair Dye      Bobbi Brown   Mascara   \n",
       "2  Skin/Body  North America  Hair Dye      Bobbi Brown     Toner   \n",
       "3  Skin/Body  North America  Hair Dye      Bobbi Brown   Bronzer   \n",
       "4  Skin/Body  North America  Hair Dye  Elizabeth Arden  Lipstick   \n",
       "\n",
       "   Initial Sales  Margin  Min Trend  Max Trend  Min Contribution  \\\n",
       "0        6923388    7.75      -1.10       5.97              2.78   \n",
       "1        7704212   14.02      -1.46       0.21              4.88   \n",
       "2        6519877    5.01      -0.04       6.17              3.45   \n",
       "3        9805648   12.87      -3.00       0.47              4.90   \n",
       "4        3775709   16.78      -4.00       5.14              3.37   \n",
       "\n",
       "   Max Contribution  \n",
       "0              7.50  \n",
       "1             25.81  \n",
       "2              5.18  \n",
       "3             10.82  \n",
       "4              6.16  "
      ]
     },
     "execution_count": 9,
     "metadata": {},
     "output_type": "execute_result"
    }
   ],
   "source": [
    "df.head()"
   ]
  },
  {
   "cell_type": "code",
   "execution_count": 10,
   "id": "e23cb014",
   "metadata": {},
   "outputs": [
    {
     "data": {
      "text/plain": [
       "(1200, 11)"
      ]
     },
     "execution_count": 10,
     "metadata": {},
     "output_type": "execute_result"
    }
   ],
   "source": [
    "df.shape"
   ]
  },
  {
   "cell_type": "code",
   "execution_count": 11,
   "id": "82e655d6",
   "metadata": {},
   "outputs": [
    {
     "data": {
      "text/plain": [
       "Portfolio           0\n",
       "Geography           0\n",
       "Category            0\n",
       "Brand               0\n",
       "Segment             0\n",
       "Initial Sales       0\n",
       "Margin              0\n",
       "Min Trend           0\n",
       "Max Trend           0\n",
       "Min Contribution    0\n",
       "Max Contribution    0\n",
       "dtype: int64"
      ]
     },
     "execution_count": 11,
     "metadata": {},
     "output_type": "execute_result"
    }
   ],
   "source": [
    "df.isnull().sum()"
   ]
  },
  {
   "cell_type": "code",
   "execution_count": 12,
   "id": "c3fc31ac",
   "metadata": {},
   "outputs": [
    {
     "data": {
      "text/html": [
       "<div>\n",
       "<style scoped>\n",
       "    .dataframe tbody tr th:only-of-type {\n",
       "        vertical-align: middle;\n",
       "    }\n",
       "\n",
       "    .dataframe tbody tr th {\n",
       "        vertical-align: top;\n",
       "    }\n",
       "\n",
       "    .dataframe thead th {\n",
       "        text-align: right;\n",
       "    }\n",
       "</style>\n",
       "<table border=\"1\" class=\"dataframe\">\n",
       "  <thead>\n",
       "    <tr style=\"text-align: right;\">\n",
       "      <th></th>\n",
       "      <th>Initial Sales</th>\n",
       "      <th>Margin</th>\n",
       "      <th>Min Trend</th>\n",
       "      <th>Max Trend</th>\n",
       "      <th>Min Contribution</th>\n",
       "      <th>Max Contribution</th>\n",
       "    </tr>\n",
       "  </thead>\n",
       "  <tbody>\n",
       "    <tr>\n",
       "      <th>count</th>\n",
       "      <td>1.200000e+03</td>\n",
       "      <td>1200.000000</td>\n",
       "      <td>1200.000000</td>\n",
       "      <td>1200.000000</td>\n",
       "      <td>1200.000000</td>\n",
       "      <td>1200.000000</td>\n",
       "    </tr>\n",
       "    <tr>\n",
       "      <th>mean</th>\n",
       "      <td>5.208725e+06</td>\n",
       "      <td>12.333167</td>\n",
       "      <td>-2.457325</td>\n",
       "      <td>5.044858</td>\n",
       "      <td>2.979967</td>\n",
       "      <td>17.316667</td>\n",
       "    </tr>\n",
       "    <tr>\n",
       "      <th>std</th>\n",
       "      <td>2.677895e+06</td>\n",
       "      <td>4.322713</td>\n",
       "      <td>1.419196</td>\n",
       "      <td>2.909804</td>\n",
       "      <td>1.165234</td>\n",
       "      <td>7.164946</td>\n",
       "    </tr>\n",
       "    <tr>\n",
       "      <th>min</th>\n",
       "      <td>5.212530e+05</td>\n",
       "      <td>5.010000</td>\n",
       "      <td>-5.000000</td>\n",
       "      <td>0.000000</td>\n",
       "      <td>1.000000</td>\n",
       "      <td>5.010000</td>\n",
       "    </tr>\n",
       "    <tr>\n",
       "      <th>25%</th>\n",
       "      <td>2.939734e+06</td>\n",
       "      <td>8.657500</td>\n",
       "      <td>-3.640000</td>\n",
       "      <td>2.507500</td>\n",
       "      <td>1.970000</td>\n",
       "      <td>11.165000</td>\n",
       "    </tr>\n",
       "    <tr>\n",
       "      <th>50%</th>\n",
       "      <td>5.236218e+06</td>\n",
       "      <td>12.405000</td>\n",
       "      <td>-2.410000</td>\n",
       "      <td>5.100000</td>\n",
       "      <td>2.940000</td>\n",
       "      <td>17.500000</td>\n",
       "    </tr>\n",
       "    <tr>\n",
       "      <th>75%</th>\n",
       "      <td>7.465811e+06</td>\n",
       "      <td>16.170000</td>\n",
       "      <td>-1.250000</td>\n",
       "      <td>7.625000</td>\n",
       "      <td>4.002500</td>\n",
       "      <td>23.385000</td>\n",
       "    </tr>\n",
       "    <tr>\n",
       "      <th>max</th>\n",
       "      <td>9.995231e+06</td>\n",
       "      <td>19.990000</td>\n",
       "      <td>-0.010000</td>\n",
       "      <td>9.980000</td>\n",
       "      <td>5.000000</td>\n",
       "      <td>29.980000</td>\n",
       "    </tr>\n",
       "  </tbody>\n",
       "</table>\n",
       "</div>"
      ],
      "text/plain": [
       "       Initial Sales       Margin    Min Trend    Max Trend  Min Contribution  \\\n",
       "count   1.200000e+03  1200.000000  1200.000000  1200.000000       1200.000000   \n",
       "mean    5.208725e+06    12.333167    -2.457325     5.044858          2.979967   \n",
       "std     2.677895e+06     4.322713     1.419196     2.909804          1.165234   \n",
       "min     5.212530e+05     5.010000    -5.000000     0.000000          1.000000   \n",
       "25%     2.939734e+06     8.657500    -3.640000     2.507500          1.970000   \n",
       "50%     5.236218e+06    12.405000    -2.410000     5.100000          2.940000   \n",
       "75%     7.465811e+06    16.170000    -1.250000     7.625000          4.002500   \n",
       "max     9.995231e+06    19.990000    -0.010000     9.980000          5.000000   \n",
       "\n",
       "       Max Contribution  \n",
       "count       1200.000000  \n",
       "mean          17.316667  \n",
       "std            7.164946  \n",
       "min            5.010000  \n",
       "25%           11.165000  \n",
       "50%           17.500000  \n",
       "75%           23.385000  \n",
       "max           29.980000  "
      ]
     },
     "execution_count": 12,
     "metadata": {},
     "output_type": "execute_result"
    }
   ],
   "source": [
    "df.describe()"
   ]
  },
  {
   "cell_type": "markdown",
   "id": "87f66957",
   "metadata": {},
   "source": [
    "2. Maximize Sales:  \n",
    "a. Develop an algorithm whose output will show the absolute maximum in \n",
    "sales the company can hit given the constraints they set. It is meant to \n",
    "inform a leadership conversation so for example if the CEO comes in and \n",
    "says they want to grow by $100M, the Chief Financial Officer can run this \n",
    "portion of the algorithm and see that even at the maximum Acme can only \n",
    "generate $70M in sales so what they’re asking for is impossible and allow \n",
    "them to have a more realistic conversation about growth. \n",
    "<br> b. Show the sales, margin, trend and contribution for each unit "
   ]
  },
  {
   "cell_type": "code",
   "execution_count": 13,
   "id": "9e86bc35",
   "metadata": {},
   "outputs": [],
   "source": [
    "def maximize_sales(df, growth_target):\n",
    "    df['Max Possible Sales'] = df['Initial Sales'] * (1 + df['Max Trend'])\n",
    "    total_possible_growth = df['Max Possible Sales'].sum() - df['Initial Sales'].sum()\n",
    "    \n",
    "    if total_possible_growth >= growth_target:\n",
    "        df['Final Sales'] = df['Initial Sales'] * (1 + df['Max Trend'])\n",
    "        feasible = True\n",
    "    else:\n",
    "        df['Final Sales'] = df['Initial Sales'] + (df['Initial Sales'] / df['Initial Sales'].sum()) * total_possible_growth\n",
    "        feasible = False\n",
    "    \n",
    "    return df, feasible, total_possible_growth\n"
   ]
  },
  {
   "cell_type": "code",
   "execution_count": 14,
   "id": "67d1857d",
   "metadata": {},
   "outputs": [],
   "source": [
    "max_sales_df, feasible, total_growth = maximize_sales(df, 100000000)"
   ]
  },
  {
   "cell_type": "code",
   "execution_count": 15,
   "id": "e05cef70",
   "metadata": {},
   "outputs": [
    {
     "name": "stdout",
     "output_type": "stream",
     "text": [
      "Maximum Sales Report\n",
      "   Portfolio      Geography  Category            Brand   Segment  \\\n",
      "0  Skin/Body  North America  Hair Dye      Bobbi Brown  Lipstick   \n",
      "1  Skin/Body  North America  Hair Dye      Bobbi Brown   Mascara   \n",
      "2  Skin/Body  North America  Hair Dye      Bobbi Brown     Toner   \n",
      "3  Skin/Body  North America  Hair Dye      Bobbi Brown   Bronzer   \n",
      "4  Skin/Body  North America  Hair Dye  Elizabeth Arden  Lipstick   \n",
      "\n",
      "   Initial Sales  Margin  Min Trend  Max Trend  Min Contribution  \\\n",
      "0        6923388    7.75      -1.10       5.97              2.78   \n",
      "1        7704212   14.02      -1.46       0.21              4.88   \n",
      "2        6519877    5.01      -0.04       6.17              3.45   \n",
      "3        9805648   12.87      -3.00       0.47              4.90   \n",
      "4        3775709   16.78      -4.00       5.14              3.37   \n",
      "\n",
      "   Max Contribution  Max Possible Sales  Final Sales  \n",
      "0              7.50         48256014.36  48256014.36  \n",
      "1             25.81          9322096.52   9322096.52  \n",
      "2              5.18         46747518.09  46747518.09  \n",
      "3             10.82         14414302.56  14414302.56  \n",
      "4              6.16         23182853.26  23182853.26  \n",
      "Is the growth possible True\n",
      "Maximum possible Growth: $ 31540633687.6\n"
     ]
    }
   ],
   "source": [
    "print(\"Maximum Sales Report\")\n",
    "print(max_sales_df.head())\n",
    "print(\"Is the growth possible\",feasible)\n",
    "print(\"Maximum possible Growth: $\",total_growth)"
   ]
  },
  {
   "cell_type": "markdown",
   "id": "82d0ce2a",
   "metadata": {},
   "source": [
    "3. Maximize Margin: <br>\n",
    "a. This is the same as sales but for margin so they can maximize on margin. \n",
    "<br> b. Show the sales, margin, trend and contribution for each unit "
   ]
  },
  {
   "cell_type": "code",
   "execution_count": null,
   "id": "4c306d9b",
   "metadata": {},
   "outputs": [],
   "source": [
    "def maximize_margin(df, margin_target):\n",
    "    df['Max Possible Margin'] = df['Margin'] * df['Max Contribution']\n",
    "    total_possible_margin_growth = df['Max Possible Margin'].sum() - df['Margin'].sum()\n",
    "    \n",
    "    if total_possible_margin_growth >= margin_target:\n",
    "        df['Final Margin'] = df['Margin'] * (df['Max Contribution'])\n",
    "        feasible = True\n",
    "    else:\n",
    "        df['Final Margin'] = df['Margin'] + (df['Margin'] / df['Margin'].sum()) * total_possible_margin_growth\n",
    "        feasible = False\n",
    "    \n",
    "    return df, feasible, total_possible_margin_growth"
   ]
  },
  {
   "cell_type": "code",
   "execution_count": 28,
   "id": "39b98ea4",
   "metadata": {},
   "outputs": [],
   "source": [
    "max_margin_df, margin_feasible, total_margin_growth = maximize_margin(df, 0.05)"
   ]
  },
  {
   "cell_type": "code",
   "execution_count": 29,
   "id": "cda9d878",
   "metadata": {},
   "outputs": [
    {
     "name": "stdout",
     "output_type": "stream",
     "text": [
      "Maximium Margin Report:\n",
      "   Portfolio      Geography  Category            Brand   Segment  \\\n",
      "0  Skin/Body  North America  Hair Dye      Bobbi Brown  Lipstick   \n",
      "1  Skin/Body  North America  Hair Dye      Bobbi Brown   Mascara   \n",
      "2  Skin/Body  North America  Hair Dye      Bobbi Brown     Toner   \n",
      "3  Skin/Body  North America  Hair Dye      Bobbi Brown   Bronzer   \n",
      "4  Skin/Body  North America  Hair Dye  Elizabeth Arden  Lipstick   \n",
      "\n",
      "   Initial Sales  Margin  Min Trend  Max Trend  Min Contribution  \\\n",
      "0        6923388    7.75      -1.10       5.97              2.78   \n",
      "1        7704212   14.02      -1.46       0.21              4.88   \n",
      "2        6519877    5.01      -0.04       6.17              3.45   \n",
      "3        9805648   12.87      -3.00       0.47              4.90   \n",
      "4        3775709   16.78      -4.00       5.14              3.37   \n",
      "\n",
      "   Max Contribution  Max Possible Sales  Final Sales  Max Possible Margin  \\\n",
      "0              7.50         48256014.36  48256014.36             0.005812   \n",
      "1             25.81          9322096.52   9322096.52             0.036186   \n",
      "2              5.18         46747518.09  46747518.09             0.002595   \n",
      "3             10.82         14414302.56  14414302.56             0.013925   \n",
      "4              6.16         23182853.26  23182853.26             0.010336   \n",
      "\n",
      "   Final Margin  \n",
      "0      7.685983  \n",
      "1     13.904191  \n",
      "2      4.968616  \n",
      "3     12.763691  \n",
      "4     16.641393  \n",
      "Is margin achievable True\n",
      "Total Maximum Margin -122.24990442999999%\n"
     ]
    }
   ],
   "source": [
    "print(\"Maximium Margin Report:\")\n",
    "print(max_margin_df.head())\n",
    "print(f\"Is margin achievable\",feasible)\n",
    "print(f\"Total Maximum Margin {total_margin_growth}%\")"
   ]
  },
  {
   "cell_type": "markdown",
   "id": "489a3476",
   "metadata": {},
   "source": [
    "4. Hit A Sales Target While Maximizing Margin: <br>\n",
    "a. This output is a combination approach where the user can set a revenue \n",
    "target, say $50M of new sales (the output of the algorithm) and the \n",
    "algorithm not only produces a path to achieve $50M in sales, but that the \n",
    "path the algorithm generates also maximizes profit margin. See example \n",
    "below. \n",
    "<br> b. Show the sales, margin, trend and contribution for each unit "
   ]
  },
  {
   "cell_type": "code",
   "execution_count": 24,
   "id": "3cb6058a",
   "metadata": {},
   "outputs": [],
   "source": [
    "def hit_sales_target_maximize_margin(df, sales_target):\n",
    "    df['Max Possible Sales'] = df['Initial Sales'] * (1 + df['Max Trend'])\n",
    "    df['Max Possible Margin'] = df['Margin'] * (df['Max Contribution'])\n",
    "    \n",
    "    total_possible_sales = df['Max Possible Sales'].sum()\n",
    "    \n",
    "    if total_possible_sales >= sales_target:\n",
    "        df['Final Sales'] = df['Initial Sales'] * (1 + df['Max Trend'])\n",
    "        df['Final Margin'] = df['Margin'] * (df['Max Contribution'])\n",
    "        feasible = True\n",
    "    else:\n",
    "        scale_factor = sales_target / total_possible_sales\n",
    "        df['Final Sales'] = df['Initial Sales'] * (1 + df['Max Trend']) * scale_factor\n",
    "        df['Final Margin'] = df['Margin'] * (1 + df['Max Contribution']) * scale_factor\n",
    "        feasible = False\n",
    "    \n",
    "    return df, feasible, total_possible_sales"
   ]
  },
  {
   "cell_type": "code",
   "execution_count": 25,
   "id": "39b361ff",
   "metadata": {},
   "outputs": [],
   "source": [
    "sales_margin_df, sales_margin_feasible, total_sales_possible = hit_sales_target_maximize_margin(df, 50000000)"
   ]
  },
  {
   "cell_type": "code",
   "execution_count": 26,
   "id": "a7e05203",
   "metadata": {},
   "outputs": [
    {
     "name": "stdout",
     "output_type": "stream",
     "text": [
      "Sales Target with Maximized Margin Data:\n",
      "   Portfolio      Geography  Category            Brand   Segment  \\\n",
      "0  Skin/Body  North America  Hair Dye      Bobbi Brown  Lipstick   \n",
      "1  Skin/Body  North America  Hair Dye      Bobbi Brown   Mascara   \n",
      "2  Skin/Body  North America  Hair Dye      Bobbi Brown     Toner   \n",
      "3  Skin/Body  North America  Hair Dye      Bobbi Brown   Bronzer   \n",
      "4  Skin/Body  North America  Hair Dye  Elizabeth Arden  Lipstick   \n",
      "\n",
      "   Initial Sales  Margin  Min Trend  Max Trend  Min Contribution  \\\n",
      "0        6923388    7.75      -1.10       5.97              2.78   \n",
      "1        7704212   14.02      -1.46       0.21              4.88   \n",
      "2        6519877    5.01      -0.04       6.17              3.45   \n",
      "3        9805648   12.87      -3.00       0.47              4.90   \n",
      "4        3775709   16.78      -4.00       5.14              3.37   \n",
      "\n",
      "   Max Contribution  Max Possible Sales  Final Sales  Max Possible Margin  \\\n",
      "0              7.50         48256014.36  48256014.36              58.1250   \n",
      "1             25.81          9322096.52   9322096.52             361.8562   \n",
      "2              5.18         46747518.09  46747518.09              25.9518   \n",
      "3             10.82         14414302.56  14414302.56             139.2534   \n",
      "4              6.16         23182853.26  23182853.26             103.3648   \n",
      "\n",
      "   Final Margin  \n",
      "0       58.1250  \n",
      "1      361.8562  \n",
      "2       25.9518  \n",
      "3      139.2534  \n",
      "4      103.3648  \n",
      "Is sales target achievable while maximizing margin? True\n",
      "Total possible sales: $37,791,103,325.60\n"
     ]
    }
   ],
   "source": [
    "print(\"Sales Target with Maximized Margin Data:\")\n",
    "print(sales_margin_df.head())\n",
    "print(f\"Is sales target achievable while maximizing margin? {sales_margin_feasible}\")\n",
    "print(f\"Total possible sales: ${total_sales_possible:,.2f}\")"
   ]
  },
  {
   "cell_type": "markdown",
   "id": "0e2d5c0c",
   "metadata": {},
   "source": [
    "5. Hit A Margin Target While Maximizing Sales: <br>\n",
    "a. The same as objective four but for margin. <br>\n",
    "b. Show the sales, margin, trend and contribution for each unit "
   ]
  },
  {
   "cell_type": "code",
   "execution_count": 27,
   "id": "64577bc6",
   "metadata": {},
   "outputs": [],
   "source": [
    "def hit_margin_target_maximize_sales(df, margin_target):\n",
    "    df['Max Possible Margin'] = df['Margin'] * (df['Max Contribution'])\n",
    "    df['Max Possible Sales'] = df['Initial Sales'] * (1 + df['Max Trend'])\n",
    "    \n",
    "    total_possible_margin = df['Max Possible Margin'].sum()\n",
    "    \n",
    "    if total_possible_margin >= margin_target:\n",
    "        df['Final Margin'] = df['Margin'] * (df['Max Contribution'])\n",
    "        df['Final Sales'] = df['Initial Sales'] * (1 + df['Max Trend'])\n",
    "        feasible = True\n",
    "    else:\n",
    "        scale_factor = margin_target / total_possible_margin\n",
    "        df['Final Margin'] = df['Margin'] * (1 + df['Max Contribution']) * scale_factor\n",
    "        df['Final Sales'] = df['Initial Sales'] * (1 + df['Max Trend']) * scale_factor\n",
    "        feasible = False\n",
    "    \n",
    "    return df, feasible, total_possible_margin"
   ]
  },
  {
   "cell_type": "code",
   "execution_count": 28,
   "id": "77714998",
   "metadata": {},
   "outputs": [],
   "source": [
    "margin_sales_df, margin_sales_feasible, total_margin_possible = hit_margin_target_maximize_sales(df, 0.1)"
   ]
  },
  {
   "cell_type": "code",
   "execution_count": 29,
   "id": "c6216f8a",
   "metadata": {},
   "outputs": [
    {
     "name": "stdout",
     "output_type": "stream",
     "text": [
      "\n",
      "Margin Target with Maximized Sales Data:\n",
      "   Portfolio      Geography  Category            Brand   Segment  \\\n",
      "0  Skin/Body  North America  Hair Dye      Bobbi Brown  Lipstick   \n",
      "1  Skin/Body  North America  Hair Dye      Bobbi Brown   Mascara   \n",
      "2  Skin/Body  North America  Hair Dye      Bobbi Brown     Toner   \n",
      "3  Skin/Body  North America  Hair Dye      Bobbi Brown   Bronzer   \n",
      "4  Skin/Body  North America  Hair Dye  Elizabeth Arden  Lipstick   \n",
      "\n",
      "   Initial Sales  Margin  Min Trend  Max Trend  Min Contribution  \\\n",
      "0        6923388    7.75      -1.10       5.97              2.78   \n",
      "1        7704212   14.02      -1.46       0.21              4.88   \n",
      "2        6519877    5.01      -0.04       6.17              3.45   \n",
      "3        9805648   12.87      -3.00       0.47              4.90   \n",
      "4        3775709   16.78      -4.00       5.14              3.37   \n",
      "\n",
      "   Max Contribution  Max Possible Sales  Final Sales  Max Possible Margin  \\\n",
      "0              7.50         48256014.36  48256014.36              58.1250   \n",
      "1             25.81          9322096.52   9322096.52             361.8562   \n",
      "2              5.18         46747518.09  46747518.09              25.9518   \n",
      "3             10.82         14414302.56  14414302.56             139.2534   \n",
      "4              6.16         23182853.26  23182853.26             103.3648   \n",
      "\n",
      "   Final Margin  \n",
      "0       58.1250  \n",
      "1      361.8562  \n",
      "2       25.9518  \n",
      "3      139.2534  \n",
      "4      103.3648  \n",
      "Is margin target achievable while maximizing sales? True\n",
      "Total possible margin: 257480.9557\n"
     ]
    }
   ],
   "source": [
    "print(\"\\nMargin Target with Maximized Sales Data:\")\n",
    "print(margin_sales_df.head())\n",
    "print(f\"Is margin target achievable while maximizing sales? {margin_sales_feasible}\")\n",
    "print(f\"Total possible margin: {total_margin_possible}\")"
   ]
  },
  {
   "cell_type": "markdown",
   "id": "a6033ab1",
   "metadata": {},
   "source": [
    "6. Projections for Each Year Over a 5 Year Period: <br> \n",
    "a. The algorithm should be able to produce results annually over a 5 year \n",
    "period with the admins being able to adjust the constraints for across any \n",
    "of the years. "
   ]
  },
  {
   "cell_type": "code",
   "execution_count": 30,
   "id": "936c709d",
   "metadata": {},
   "outputs": [],
   "source": [
    "def five_year_projections(df, annual_growth_limits):\n",
    "    projections = []\n",
    "    for year in range(1, 6):\n",
    "        growth_cap = annual_growth_limits.get(year, 0.1)  # Default 10% growth cap\n",
    "        df[f'Sales Year {year}'] = df['Initial Sales'] * (1 + np.minimum(df['Max Trend'], growth_cap))\n",
    "        df[f'Margin Year {year}'] = df['Margin'] * (1 + np.minimum(df['Max Contribution'], growth_cap))\n",
    "        projections.append(df[[f'Sales Year {year}', f'Margin Year {year}']].sum())\n",
    "    return df, projections"
   ]
  },
  {
   "cell_type": "code",
   "execution_count": 31,
   "id": "81ec809a",
   "metadata": {},
   "outputs": [],
   "source": [
    "annual_growth_limits = {1: 0.08, 2: 0.10, 3: 0.12, 4: 0.07, 5: 0.05}  # Customizable constraints\n",
    "projections_df, yearly_projections = five_year_projections(df, annual_growth_limits)"
   ]
  },
  {
   "cell_type": "code",
   "execution_count": 32,
   "id": "fc2d3182",
   "metadata": {},
   "outputs": [
    {
     "name": "stdout",
     "output_type": "stream",
     "text": [
      "5-Year Projections:\n",
      "Year 1: Sales = $6,748,184,354.06, Margin = 1598378.40%\n",
      "Year 2: Sales = $6,872,173,009.98, Margin = 1627978.00%\n",
      "Year 3: Sales = $6,996,100,253.46, Margin = 1657577.60%\n",
      "Year 4: Sales = $6,686,190,026.10, Margin = 1583578.60%\n",
      "Year 5: Sales = $6,562,023,227.34, Margin = 1553979.00%\n"
     ]
    }
   ],
   "source": [
    "print(\"5-Year Projections:\")\n",
    "for year, proj in enumerate(yearly_projections, start=1):\n",
    "    print(f\"Year {year}: Sales = ${proj[f'Sales Year {year}']:,.2f}, Margin = {proj[f'Margin Year {year}']:.2%}\")"
   ]
  },
  {
   "cell_type": "code",
   "execution_count": 33,
   "id": "ec6e5c90",
   "metadata": {},
   "outputs": [
    {
     "data": {
      "image/png": "[encoded data removed]",
      "text/plain": [
       "<Figure size 1000x500 with 2 Axes>"
      ]
     },
     "metadata": {},
     "output_type": "display_data"
    }
   ],
   "source": [
    "import matplotlib.pyplot as plt\n",
    "years = [f'Year {i}' for i in range(1, 6)]\n",
    "sales_values = [proj[f'Sales Year {i}'] for i, proj in enumerate(yearly_projections, start=1)]\n",
    "margin_values = [proj[f'Margin Year {i}'] for i, proj in enumerate(yearly_projections, start=1)]\n",
    "fig, (ax1, ax2) = plt.subplots(1, 2, figsize=(10, 5))\n",
    "ax1.plot(years, sales_values, marker='o', linestyle='-', color='b', label='Sales')\n",
    "ax1.set_xlabel('Year')\n",
    "ax1.set_ylabel('Sales')\n",
    "ax1.set_title('5-Year Sales Projections')\n",
    "ax1.legend()\n",
    "ax2.plot(years, margin_values, marker='s', linestyle='--', color='r', label='Margin')\n",
    "ax2.set_xlabel('Year')\n",
    "ax2.set_ylabel('Margin')\n",
    "ax2.set_title('5-Year Margin Projections')\n",
    "ax2.legend()\n",
    "plt.tight_layout()\n",
    "plt.show()"
   ]
  }
 ],
 "metadata": {
  "kernelspec": {
   "display_name": "base",
   "language": "python",
   "name": "python3"
  },
  "language_info": {
   "codemirror_mode": {
    "name": "ipython",
    "version": 3
   },
   "file_extension": ".py",
   "mimetype": "text/x-python",
   "name": "python",
   "nbconvert_exporter": "python",
   "pygments_lexer": "ipython3",
   "version": "3.12.7"
  }
 },
 "nbformat": 4,
 "nbformat_minor": 5
}
